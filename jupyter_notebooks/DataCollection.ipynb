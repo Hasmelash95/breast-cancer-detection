{
  "cells": [
    {
      "attachments": {},
      "cell_type": "markdown",
      "metadata": {
        "id": "0aStgWSO0E0E"
      },
      "source": [
        "# **Data Collection**"
      ]
    },
    {
      "attachments": {},
      "cell_type": "markdown",
      "metadata": {
        "id": "1eLEkw5O0ECa"
      },
      "source": [
        "## Objectives\n",
        "\n",
        "* Fetch breast ultrasound image dataset from Kaggle and prepare the data for anaylsis and modelling. \n",
        "\n",
        "## Inputs\n",
        "\n",
        "* Kaggle JSON file - authentication token.\n",
        "\n",
        "## Outputs\n",
        "\n",
        "* Generate dataset: inputs/datasets/breast_cancer_dataset\n",
        "\n",
        "## Additional Comments\n",
        "\n",
        "* Clean the data and split the dataset into train, validation and test sets.\n"
      ]
    },
    {
      "cell_type": "markdown",
      "metadata": {
        "id": "9uWZXH9LwoQg"
      },
      "source": [
        "---"
      ]
    },
    {
      "cell_type": "markdown",
      "metadata": {
        "id": "cqP-UeN-z3i2"
      },
      "source": [
        "# Change working directory"
      ]
    },
    {
      "cell_type": "code",
      "execution_count": null,
      "metadata": {
        "id": "wZfF_j-Bz3i4",
        "outputId": "66943449-1436-4c3d-85c7-b85f9f78349b"
      },
      "outputs": [],
      "source": [
        "import os\n",
        "current_dir = os.getcwd()\n",
        "current_dir"
      ]
    },
    {
      "cell_type": "code",
      "execution_count": null,
      "metadata": {},
      "outputs": [],
      "source": [
        "os.chdir(\"/workspace/breast-cancer-detection\")\n",
        "print(\"You set a new current directory.\")"
      ]
    },
    {
      "cell_type": "code",
      "execution_count": null,
      "metadata": {
        "id": "vz3S-_kjz3jA",
        "outputId": "00b79ae4-75d0-4a96-d193-ac9ef9847ea2"
      },
      "outputs": [],
      "source": [
        "current_dir = os.getcwd()\n",
        "current_dir"
      ]
    },
    {
      "attachments": {},
      "cell_type": "markdown",
      "metadata": {
        "id": "-mavJ8DibrcQ"
      },
      "source": [
        "# Install Kaggle"
      ]
    },
    {
      "cell_type": "code",
      "execution_count": null,
      "metadata": {},
      "outputs": [],
      "source": [
        "# install kaggle package\n",
        "%pip install kaggle"
      ]
    },
    {
      "cell_type": "code",
      "execution_count": null,
      "metadata": {},
      "outputs": [],
      "source": [
        "os.environ['KAGGLE_CONFIG_DIR'] = os.getcwd()\n",
        "! chmod 600 kaggle.json"
      ]
    },
    {
      "cell_type": "code",
      "execution_count": null,
      "metadata": {},
      "outputs": [],
      "source": [
        "KaggleDatasetPath = \"aryashah2k/breast-ultrasound-images-dataset\"\n",
        "DestinationFolder = \"inputs/breast_cancer_dataset\"\n",
        "! kaggle datasets download -d {KaggleDatasetPath} -p {DestinationFolder}"
      ]
    },
    {
      "cell_type": "code",
      "execution_count": null,
      "metadata": {},
      "outputs": [],
      "source": [
        "import zipfile\n",
        "with zipfile.ZipFile(DestinationFolder + \"/breast-ultrasound-images-dataset.zip\", \"r\") as zip_ref:\n",
        "    zip_ref.extractall(DestinationFolder)\n",
        "os.remove(DestinationFolder + \"/breast-ultrasound-images-dataset.zip\")"
      ]
    },
    {
      "cell_type": "markdown",
      "metadata": {
        "id": "ZY3l0-AxO93d"
      },
      "source": [
        "---"
      ]
    },
    {
      "attachments": {},
      "cell_type": "markdown",
      "metadata": {
        "id": "uFQo3ycuO-v6"
      },
      "source": [
        "# Data Cleaning\n",
        "### Check and remove non-image files"
      ]
    },
    {
      "cell_type": "code",
      "execution_count": null,
      "metadata": {},
      "outputs": [],
      "source": [
        "def remove_non_image(data_dir):\n",
        "    image_extension = (\".png\", \".jpg\", \".jpeg\", \".tiff\")\n",
        "    folders = os.listdir(data_dir)\n",
        "    for folder in folders:\n",
        "        files = os.listdir(data_dir + \"/\" + folder)\n",
        "        image = []\n",
        "        non_image = []\n",
        "        for file in files:\n",
        "            if not file.lower().endswith(image_extension):\n",
        "                non_image.append(file)\n",
        "                os.remove(data_dir + \"/\" + folder + \"/\" + file)\n",
        "            # Remove the masks (ground truth)\n",
        "            elif \"_mask\" in file.lower():\n",
        "                os.remove(data_dir + \"/\" + folder + \"/\" + file)\n",
        "            else:\n",
        "                image.append(file)\n",
        "        print(f\"Folder: {folder} - has image file\", len(image))\n",
        "        print(f\"Folder: {folder} - has non-image file\", len(non_image))\n",
        "\n"
      ]
    },
    {
      "cell_type": "code",
      "execution_count": null,
      "metadata": {},
      "outputs": [],
      "source": [
        "remove_non_image(data_dir=\"inputs/breast_cancer_dataset/ultrasound_images\")"
      ]
    },
    {
      "cell_type": "markdown",
      "metadata": {},
      "source": [
        "---"
      ]
    },
    {
      "attachments": {},
      "cell_type": "markdown",
      "metadata": {},
      "source": [
        "# Data Preparation"
      ]
    },
    {
      "attachments": {},
      "cell_type": "markdown",
      "metadata": {},
      "source": [
        "### Split data into train, validation and test sets"
      ]
    },
    {
      "cell_type": "code",
      "execution_count": null,
      "metadata": {},
      "outputs": [],
      "source": [
        "import os\n",
        "import shutil\n",
        "import random\n",
        "import joblib\n",
        "\n",
        "def split_image_dataset(data_dir, train_set_ratio, validation_set_ratio, test_set_ratio):\n",
        "    if train_set_ratio + validation_set_ratio + test_set_ratio != 1.0:\n",
        "        print(\"The set ratios should sum up to 1!\")\n",
        "        return\n",
        "    \n",
        "    # To get the folder name\n",
        "    labels = os.listdir(data_dir) \n",
        "    if \"test\" in labels:\n",
        "        pass\n",
        "    else:\n",
        "        for folder in [\"train\", \"validation\", \"test\"]:\n",
        "            # To create a sub folder for classes within train/valid/test folders\n",
        "            for label in labels:\n",
        "                os.makedirs(name=data_dir + \"/\" + folder + \"/\" + label)\n",
        "\n",
        "        for label in labels:\n",
        "            files = os.listdir(data_dir + \"/\" + label)\n",
        "            random.shuffle(files)\n",
        "\n",
        "            train_files_qty = int(len(files)) * train_set_ratio\n",
        "            validation_files_qty = int(len(files)) * validation_set_ratio\n",
        "\n",
        "            count = 1\n",
        "\n",
        "            for file in files:\n",
        "                if count <= train_files_qty:\n",
        "                    shutil.move(data_dir + \"/\" + label + \"/\" + file,\n",
        "                                data_dir + \"/train/\" + label + \"/\" + file)\n",
        "                elif count <= (train_files_qty + validation_files_qty):\n",
        "                    shutil.move(data_dir + \"/\" + label + \"/\" + file,\n",
        "                                data_dir + \"/validation/\" + label + \"/\" + file)\n",
        "                else:\n",
        "                    shutil.move(data_dir + \"/\" + label + \"/\" + file,\n",
        "                                data_dir + \"/test/\" + label + \"/\" + file)\n",
        "                count += 1\n",
        "            \n",
        "            os.rmdir(data_dir + \"/\" + label)\n"
      ]
    },
    {
      "cell_type": "code",
      "execution_count": null,
      "metadata": {},
      "outputs": [],
      "source": [
        "my_data_dir = \"inputs/breast_cancer_dataset/ultrasound_images\"\n",
        "split_image_dataset(data_dir=my_data_dir, \n",
        "                    train_set_ratio=0.7, \n",
        "                    validation_set_ratio=0.15, \n",
        "                    test_set_ratio=0.15)"
      ]
    },
    {
      "cell_type": "markdown",
      "metadata": {},
      "source": [
        "---"
      ]
    },
    {
      "attachments": {},
      "cell_type": "markdown",
      "metadata": {
        "id": "ltNetd085qHf"
      },
      "source": [
        "# Conclusion"
      ]
    },
    {
      "attachments": {},
      "cell_type": "markdown",
      "metadata": {},
      "source": [
        "Data has been cleaned to remove non-image files (if there were any) and images that were marked as \"mask\". The data was split into three datasets, train, validation and set in a (0.7, 0.15, 0.15) ratio."
      ]
    },
    {
      "attachments": {},
      "cell_type": "markdown",
      "metadata": {
        "id": "aKlnIozA4eQO",
        "outputId": "fd09bc1f-adb1-4511-f6ce-492a6af570c0"
      },
      "source": [
        "### Next Steps\n",
        "\n",
        "The data will be analysed for differences between the three classes with the standard deviation and mean of the images calculated to determine image variability and the average image. An image montage will be created to display the images on the dashboard.\n"
      ]
    }
  ],
  "metadata": {
    "accelerator": "GPU",
    "colab": {
      "name": "Data Practitioner Jupyter Notebook.ipynb",
      "provenance": [],
      "toc_visible": true
    },
    "interpreter": {
      "hash": "8b8334dab9339717f727a1deaf837b322d7a41c20d15cc86be99a8e69ceec8ce"
    },
    "kernelspec": {
      "display_name": "Python 3.8.12 64-bit ('3.8.12': pyenv)",
      "name": "python3"
    },
    "language_info": {
      "codemirror_mode": {
        "name": "ipython",
        "version": 3
      },
      "file_extension": ".py",
      "mimetype": "text/x-python",
      "name": "python",
      "nbconvert_exporter": "python",
      "pygments_lexer": "ipython3",
      "version": "3.8.12"
    },
    "orig_nbformat": 2
  },
  "nbformat": 4,
  "nbformat_minor": 2
}

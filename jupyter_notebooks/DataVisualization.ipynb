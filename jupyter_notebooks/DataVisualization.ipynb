{
  "cells": [
    {
      "attachments": {},
      "cell_type": "markdown",
      "metadata": {
        "id": "0aStgWSO0E0E"
      },
      "source": [
        "# **Data Visualization**"
      ]
    },
    {
      "attachments": {},
      "cell_type": "markdown",
      "metadata": {
        "id": "1eLEkw5O0ECa"
      },
      "source": [
        "## Objectives\n",
        "\n",
        "* Fulfill Business Requirement 1 - The client is interested in determining the visual differences between normal breast ultrasounds, those containing benign tumours and those containing malignant tumours.\n",
        "\n",
        "## Inputs\n",
        "\n",
        "* inputs/breast_cancer_dataset/ultrasound_images/train\n",
        "* inputs/breast_cancer_dataset/ultrasound_images/validation\n",
        "* inputs/breast_cancer_dataset/ultrasound_images/test\n",
        "\n",
        "## Outputs\n",
        "\n",
        "* Scatterplot of image height and width.\n",
        "* Image Shape embeddings in a pickle file.\n",
        "* Standard Deviation and Mean of images per label.\n",
        "* A plot to show image differences between the three classes.\n",
        "* Code to present an image montage on the dashboard.\n"
      ]
    },
    {
      "cell_type": "markdown",
      "metadata": {
        "id": "9uWZXH9LwoQg"
      },
      "source": [
        "---"
      ]
    },
    {
      "cell_type": "markdown",
      "metadata": {
        "id": "cqP-UeN-z3i2"
      },
      "source": [
        "# Change working directory"
      ]
    },
    {
      "cell_type": "code",
      "execution_count": null,
      "metadata": {
        "id": "wZfF_j-Bz3i4",
        "outputId": "66943449-1436-4c3d-85c7-b85f9f78349b"
      },
      "outputs": [],
      "source": [
        "import os\n",
        "current_dir = os.getcwd()\n",
        "current_dir"
      ]
    },
    {
      "cell_type": "code",
      "execution_count": null,
      "metadata": {
        "id": "TwHsQRWjz3i9",
        "outputId": "86849db3-cd2f-4cc5-ebb8-2d0caafa1a2c"
      },
      "outputs": [],
      "source": [
        "os.chdir(\"/workspace/breast-cancer-detection\")\n",
        "print(\"You set a new current directory.\")"
      ]
    },
    {
      "cell_type": "code",
      "execution_count": null,
      "metadata": {
        "id": "vz3S-_kjz3jA",
        "outputId": "00b79ae4-75d0-4a96-d193-ac9ef9847ea2"
      },
      "outputs": [],
      "source": [
        "current_dir = os.getcwd()\n",
        "current_dir"
      ]
    },
    {
      "attachments": {},
      "cell_type": "markdown",
      "metadata": {
        "id": "-mavJ8DibrcQ"
      },
      "source": [
        "### Set Input Directories"
      ]
    },
    {
      "cell_type": "code",
      "execution_count": null,
      "metadata": {},
      "outputs": [],
      "source": [
        "data_dir = \"inputs/breast_cancer_dataset/ultrasound_images\"\n",
        "train_path = data_dir + \"/train\"\n",
        "validation_path = data_dir + \"/validation\"\n",
        "test_path = data_dir + \"/test\""
      ]
    },
    {
      "cell_type": "markdown",
      "metadata": {},
      "source": [
        "### Set Output Directory"
      ]
    },
    {
      "cell_type": "code",
      "execution_count": null,
      "metadata": {},
      "outputs": [],
      "source": [
        "version = \"v1\"\n",
        "file_path = f\"outputs/{version}\"\n",
        "if \"outputs\" in os.listdir(current_dir) and version in os.listdir(current_dir + \"/outputs\"):\n",
        "    print(\"This directory exists, create a new version.\")\n",
        "else:\n",
        "    os.makedirs(name=file_path)"
      ]
    },
    {
      "attachments": {},
      "cell_type": "markdown",
      "metadata": {},
      "source": [
        "### Set Label Names"
      ]
    },
    {
      "cell_type": "code",
      "execution_count": null,
      "metadata": {},
      "outputs": [],
      "source": [
        "labels = os.listdir(train_path)\n",
        "print(\"The image labels are\", labels)"
      ]
    },
    {
      "cell_type": "markdown",
      "metadata": {
        "id": "ZY3l0-AxO93d"
      },
      "source": [
        "---"
      ]
    },
    {
      "attachments": {},
      "cell_type": "markdown",
      "metadata": {
        "id": "uFQo3ycuO-v6"
      },
      "source": [
        "# Data Visualization"
      ]
    },
    {
      "attachments": {},
      "cell_type": "markdown",
      "metadata": {},
      "source": [
        "### Image Shape"
      ]
    },
    {
      "cell_type": "code",
      "execution_count": null,
      "metadata": {},
      "outputs": [],
      "source": [
        "import os\n",
        "import pandas as pd\n",
        "import numpy as np\n",
        "import matplotlib.pyplot as plt\n",
        "import seaborn as sns\n",
        "import joblib\n",
        "from matplotlib.image import imread\n",
        "\n",
        "def plot_height_width_images(save_image=False):\n",
        "    \"\"\"\n",
        "    Function to plot the width and height of the images.\n",
        "    \"\"\"\n",
        "    image_height, image_width = [], []\n",
        "    for label in labels:\n",
        "        for image_file in os.listdir(train_path + \"/\" + label):\n",
        "            image = imread(train_path + \"/\" + label + \"/\" + image_file)\n",
        "            height, width, color = image.shape\n",
        "            image_height.append(height)\n",
        "            image_width.append(width)\n",
        "    sns.set_theme(style=\"darkgrid\", palette=\"bright\")\n",
        "    fig, axes = plt.subplots()\n",
        "    sns.scatterplot(x=image_width, y=image_height, alpha=0.5)\n",
        "    axes.set_xlabel(\"Width (pixels)\")\n",
        "    axes.set_ylabel(\"Height (pixels)\")\n",
        "    axes.set_title(\"Height and Width of Ultrasound Images\")\n",
        "    height_mean = int(np.array(image_height).mean())\n",
        "    width_mean = int(np.array(image_width).mean())\n",
        "    if save_image:\n",
        "        plt.savefig(f\"{file_path}/height_width_plot.png\")\n",
        "    else:\n",
        "        plt.show()\n",
        "    print(f\"The average image height is {height_mean} and the average image width is {width_mean}.\")\n",
        "    \n",
        "    return height_mean, width_mean"
      ]
    },
    {
      "cell_type": "code",
      "execution_count": null,
      "metadata": {},
      "outputs": [],
      "source": [
        "height_mean, width_mean = plot_height_width_images()\n",
        "image_shape = (height_mean, width_mean, 1)\n",
        "image_shape"
      ]
    },
    {
      "cell_type": "code",
      "execution_count": null,
      "metadata": {},
      "outputs": [],
      "source": [
        "joblib.dump(value=image_shape, filename=f\"{file_path}/image_shape_embed.pkl\")"
      ]
    },
    {
      "cell_type": "markdown",
      "metadata": {},
      "source": [
        "---"
      ]
    },
    {
      "attachments": {},
      "cell_type": "markdown",
      "metadata": {},
      "source": [
        "### Load Images as Array"
      ]
    },
    {
      "cell_type": "code",
      "execution_count": null,
      "metadata": {},
      "outputs": [],
      "source": [
        "\n",
        "from tensorflow.keras.preprocessing import image\n",
        "\n",
        "\n",
        "def load_images_in_array(data_dir, new_size=(50, 50), n_images_per_label=20):\n",
        "    \"\"\"\n",
        "    Function to load images in an array.\n",
        "    \"\"\"\n",
        "\n",
        "    # Set X as an interger and y as an object\n",
        "    X, y = np.array([], dtype=\"int\"), np.array([], dtype=\"object\")\n",
        "    labels = os.listdir(data_dir)\n",
        "\n",
        "    for label in labels:\n",
        "        count = 0\n",
        "        for image_file in os.listdir(data_dir + \"/\" + label):\n",
        "            # Stop when count reaches this number to save time\n",
        "            if count < n_images_per_label:\n",
        "                file = image.load_img(data_dir + \"/\" + label + \"/\" + image_file, color_mode=\"grayscale\", target_size=new_size)\n",
        "                # Resize the image only if the max pixel value is above 1\n",
        "                if image.img_to_array(file).max() > 1:\n",
        "                    resized_image = image.img_to_array(file) / 255\n",
        "                else:\n",
        "                    resized_image = image.img_to_array(file)\n",
        "                X = np.append(X, resized_image).reshape(-1, new_size[0], new_size[1], resized_image.shape[2])\n",
        "                y = np.append(y, label)\n",
        "                count += 1\n",
        "\n",
        "    return X, y\n"
      ]
    },
    {
      "cell_type": "code",
      "execution_count": null,
      "metadata": {},
      "outputs": [],
      "source": [
        "X, y = load_images_in_array(data_dir=train_path, new_size=image_shape, n_images_per_label=15)\n",
        "print(X.shape, y.shape)"
      ]
    },
    {
      "attachments": {},
      "cell_type": "markdown",
      "metadata": {},
      "source": [
        "### Average Image and Image Variability"
      ]
    },
    {
      "cell_type": "code",
      "execution_count": null,
      "metadata": {},
      "outputs": [],
      "source": [
        "def plot_image_mean_and_variability_as_array(X, y, figsize=(10,5), save_image=False):\n",
        "    \"\"\"\n",
        "    Function to loop through the labels, subset an array for each label\n",
        "    and caclulate/plot the standard deviation and mean.\n",
        "    \"\"\"\n",
        "    sns.set_style(\"white\")\n",
        "    for label in np.unique(y):\n",
        "        # Subset an array\n",
        "        y = y.reshape(-1,1,1)\n",
        "        boolean_mask = np.any(y==label, axis=1).reshape(-1)\n",
        "        array = X[boolean_mask]\n",
        "\n",
        "        # Calculate the mean per label\n",
        "        avg_image = np.mean(array, axis=0)\n",
        "        # Calculate the variability per label\n",
        "        std_image = np.std(array, axis=0)\n",
        "\n",
        "        print(f\"Label: {label}\")\n",
        "        print(f\"Image shape: {avg_image.shape}\")\n",
        "        fig, axes = plt.subplots(nrows=1, ncols=2, figsize=figsize)\n",
        "        axes[0].set_title(f\"Average Image for {label}\")\n",
        "        axes[0].imshow(avg_image, cmap=\"gray\")\n",
        "        axes[1].set_title(f\"Image Variability for {label}\")\n",
        "        axes[1].imshow(std_image, cmap=\"gray\")\n",
        "        if save_image:\n",
        "            plt.savefig(f\"{file_path}/mean_std_{label}.png\")\n",
        "        else:\n",
        "            plt.show()\n",
        "            \n",
        "        print(\"\\n\")\n"
      ]
    },
    {
      "cell_type": "code",
      "execution_count": null,
      "metadata": {},
      "outputs": [],
      "source": [
        "plot_image_mean_and_variability_as_array(X, y)"
      ]
    },
    {
      "attachments": {},
      "cell_type": "markdown",
      "metadata": {},
      "source": [
        "### Differences between Benign, Malignant and Normal Ultrasound Images"
      ]
    },
    {
      "cell_type": "code",
      "execution_count": null,
      "metadata": {},
      "outputs": [],
      "source": [
        "def subset_image_label(X, y, label):\n",
        "    \"\"\"\n",
        "    Function to subset the image per label\n",
        "    \"\"\"\n",
        "    y = y.reshape(-1,1,1)\n",
        "    boolean_mask = np.any(y==label, axis=1).reshape(-1)\n",
        "    df_ultrasound = X[boolean_mask]\n",
        "    return df_ultrasound\n",
        "\n",
        "def differences_between_two_labels(X, y, label_1, label_2, figsize=(10,5), save_image=False):\n",
        "    \"\"\"\n",
        "    Function to plot the average image and image differences between two labels.\n",
        "    \"\"\"\n",
        "    sns.set_style(\"white\")\n",
        "\n",
        "    if (label_1 not in np.unique(y)) or (label_2 not in np.unique(y)):\n",
        "        print(f\"Either {label_1} or {label_2} are not in {np.unique(y)}.\")\n",
        "        return\n",
        "    \n",
        "    # Calculate label 1 mean\n",
        "    image_1 = subset_image_label(X, y, label_1)\n",
        "    image_1_avg = np.mean(image_1, axis=0)\n",
        "\n",
        "    # Calculate label 2 mean\n",
        "    image_2 = subset_image_label(X, y, label_2)\n",
        "    image_2_avg = np.mean(image_2, axis=0)\n",
        "\n",
        "    differences = image_1_avg - image_2_avg\n",
        "    fig, axes = plt.subplots(nrows=1, ncols=3, figsize=figsize)\n",
        "    print(\"\\n\")\n",
        "    axes[0].set_title(f\"Average {label_1}\")\n",
        "    axes[0].imshow(image_1_avg, cmap=\"gray\")\n",
        "    axes[1].set_title(f\"Average {label_2}\")\n",
        "    axes[1].imshow(image_2_avg, cmap=\"gray\")\n",
        "    axes[2].set_title(f\"Differences: Average {label_1} and {label_2}\")\n",
        "    axes[2].imshow(differences, cmap=\"gray\")\n",
        "    if save_image:\n",
        "        plt.savefig(f\"{file_path}/variability_{label_1}_{label_2}.png\", bbox_inches=\"tight\", dpi=150)\n",
        "    else:\n",
        "        plt.tight_layout()\n",
        "        plt.show()\n",
        "        \n"
      ]
    },
    {
      "cell_type": "code",
      "execution_count": null,
      "metadata": {},
      "outputs": [],
      "source": [
        "differences_between_two_labels(X, y, label_1=\"normal\", label_2=\"benign\")"
      ]
    },
    {
      "attachments": {},
      "cell_type": "markdown",
      "metadata": {},
      "source": [
        "### Image Montage"
      ]
    },
    {
      "cell_type": "code",
      "execution_count": null,
      "metadata": {},
      "outputs": [],
      "source": [
        "import random\n",
        "import itertools\n",
        "\n",
        "def image_montage_data(dir_path, label, nrows, ncols, figsize=(15, 10)):\n",
        "    \"\"\"\n",
        "    Function to subset label of interest, check if label is in the folder,\n",
        "    check if grid space is greater than the subset size and display the images. \n",
        "    \"\"\"\n",
        "    sns.set_style(\"white\")\n",
        "    labels = os.listdir(dir_path)\n",
        "    if label in labels:\n",
        "        image_list = os.listdir(dir_path + \"/\" + label)\n",
        "        if nrows * ncols < len(image_list):\n",
        "            image_index = random.sample(image_list, nrows * ncols)\n",
        "        else: \n",
        "            print(f\"The montage space {nrows * ncols} is greater than the subset.\")\n",
        "            print(f\"Reduce the nrows and ncols.\")\n",
        "            return\n",
        "        \n",
        "        list_of_rows = range(0, nrows)\n",
        "        list_of_cols = range(0, ncols)\n",
        "        ax_indices = list(itertools.product(list_of_rows, list_of_cols))\n",
        "\n",
        "        fig, axes = plt.subplots(nrows=nrows, ncols=ncols, figsize=figsize)\n",
        "        for i in range(0, nrows * ncols):\n",
        "            file = imread(dir_path + \"/\" + label + \"/\" + image_index[i], 0)\n",
        "            img_shape = file.shape\n",
        "            axes[ax_indices[i][0], ax_indices[i][1]].set_title(f\"Height: {img_shape[0]}px Width: {img_shape[1]}px\")\n",
        "            axes[ax_indices[i][0], ax_indices[i][1]].imshow(file)\n",
        "            # Set the tick locations of x axis\n",
        "            axes[ax_indices[i][0], ax_indices[i][1]].set_xticks([])\n",
        "            # Set the tick locations of y axis\n",
        "            axes[ax_indices[i][0], ax_indices[i][1]].set_yticks([])\n",
        "        plt.tight_layout()\n",
        "        plt.show()\n",
        "    else:\n",
        "        print(f\"Choose from the labels: {labels}\")\n"
      ]
    },
    {
      "cell_type": "code",
      "execution_count": null,
      "metadata": {},
      "outputs": [],
      "source": [
        "for label in labels:\n",
        "    print(label)\n",
        "    image_montage_data(dir_path=train_path, label=label, nrows=2, ncols=3, figsize=(15,10))\n",
        "    print(\"\\n\")"
      ]
    },
    {
      "cell_type": "markdown",
      "metadata": {},
      "source": [
        "---"
      ]
    },
    {
      "attachments": {},
      "cell_type": "markdown",
      "metadata": {
        "id": "ltNetd085qHf"
      },
      "source": [
        "# Conclusios"
      ]
    },
    {
      "attachments": {},
      "cell_type": "markdown",
      "metadata": {},
      "source": [
        "Image data from the test set was resized with the average image and image variability determined. The differences between images from two labels were also plotted. An image montage was created. "
      ]
    },
    {
      "attachments": {},
      "cell_type": "markdown",
      "metadata": {},
      "source": [
        "### Next Steps"
      ]
    },
    {
      "attachments": {},
      "cell_type": "markdown",
      "metadata": {},
      "source": [
        "The training dataset will be used to create a pipeline and fit a model. The model will be validated using the validation set and finally the test will be used to test the model."
      ]
    }
  ],
  "metadata": {
    "accelerator": "GPU",
    "colab": {
      "name": "Data Practitioner Jupyter Notebook.ipynb",
      "provenance": [],
      "toc_visible": true
    },
    "interpreter": {
      "hash": "8b8334dab9339717f727a1deaf837b322d7a41c20d15cc86be99a8e69ceec8ce"
    },
    "kernelspec": {
      "display_name": "Python 3.8.12 64-bit ('3.8.12': pyenv)",
      "name": "python3"
    },
    "language_info": {
      "codemirror_mode": {
        "name": "ipython",
        "version": 3
      },
      "file_extension": ".py",
      "mimetype": "text/x-python",
      "name": "python",
      "nbconvert_exporter": "python",
      "pygments_lexer": "ipython3",
      "version": "3.8.12"
    },
    "orig_nbformat": 2
  },
  "nbformat": 4,
  "nbformat_minor": 2
}
